{
 "cells": [
  {
   "cell_type": "code",
   "execution_count": 1,
   "id": "f13881f4-c355-4eb7-b213-f250744a2b45",
   "metadata": {},
   "outputs": [],
   "source": [
    "from short_circuit import (\n",
    "    complex_number_as_polar_string,\n",
    "    complex_vector_as_string\n",
    ")"
   ]
  },
  {
   "cell_type": "markdown",
   "id": "b5b030c1-6721-4151-a548-96dadee5e251",
   "metadata": {},
   "source": [
    "# Symmetrical and Unsymmetrical Faults"
   ]
  },
  {
   "cell_type": "markdown",
   "id": "dd718a3b-08df-4bf9-8a5f-d189d6c3a18f",
   "metadata": {},
   "source": [
    "<img src=\"./figures/ex2_line_diagram.png\" style=\"max-width: 75%; height: auto; margin-left:auto; margin-right:auto\">"
   ]
  },
  {
   "cell_type": "markdown",
   "id": "ba68c982-33c9-4c5c-b840-06b22e245828",
   "metadata": {},
   "source": [
    "## Per-Unit Impedances"
   ]
  },
  {
   "cell_type": "code",
   "execution_count": 2,
   "id": "3a12c6db-907c-4beb-a008-4ea462c56c8b",
   "metadata": {},
   "outputs": [],
   "source": [
    "Z_G1 = [0.05j, 0.2j, 0.2j]\n",
    "Z_G2 = Z_G1\n",
    "Z_T1 = [0.05j, 0.05j, 0.05j]\n",
    "Z_T2 = Z_T1\n",
    "Z_L1 = [0.3j, 0.1j, 0.1j]\n",
    "Z_L2 = Z_L1\n",
    "Z_L3 = Z_L1"
   ]
  },
  {
   "cell_type": "markdown",
   "id": "fdaebcdc-658f-4bda-85d6-ee9c696dcb44",
   "metadata": {},
   "source": [
    "## Impedance Matrices"
   ]
  },
  {
   "cell_type": "code",
   "execution_count": 3,
   "id": "645b8d57-7c77-4d59-80a7-3210d94402bc",
   "metadata": {},
   "outputs": [],
   "source": [
    "from short_circuit import Network"
   ]
  },
  {
   "cell_type": "markdown",
   "id": "fc44440a-1a32-485a-b75a-cc0597400c62",
   "metadata": {},
   "source": [
    "### Zero-Sequence Network"
   ]
  },
  {
   "cell_type": "code",
   "execution_count": 4,
   "id": "e4906b67-808a-42c0-8ffb-d628b6495f27",
   "metadata": {},
   "outputs": [],
   "source": [
    "nw0 = Network()\n",
    "nw0.add_branch(Z_G1[0], start_node_ID=None, end_node_ID=\"1\")\n",
    "nw0.add_branch(Z_G2[0], None, end_node_ID=\"2\")\n",
    "nw0.add_branch(Z_T1[0], start_node_ID=\"1\", end_node_ID=\"3\")\n",
    "nw0.add_branch(Z_L1[0], start_node_ID=\"3\", end_node_ID=\"4\")\n",
    "nw0.add_branch(Z_L2[0], start_node_ID=\"3\", end_node_ID=\"5\")\n",
    "nw0.add_branch(Z_L3[0], start_node_ID=\"4\", end_node_ID=\"5\")"
   ]
  },
  {
   "cell_type": "code",
   "execution_count": 5,
   "id": "d485989e-7b38-4774-84c4-11578fdf4641",
   "metadata": {},
   "outputs": [
    {
     "name": "stdout",
     "output_type": "stream",
     "text": [
      "            1           2           3           4           5\n",
      "1  0.00+0.05j  0.00+0.00j  0.00+0.05j  0.00+0.05j  0.00+0.05j\n",
      "2  0.00+0.00j  0.00+0.05j  0.00+0.00j  0.00+0.00j  0.00+0.00j\n",
      "3  0.00+0.05j  0.00+0.00j  0.00+0.10j  0.00+0.10j  0.00+0.10j\n",
      "4  0.00+0.05j  0.00+0.00j  0.00+0.10j  0.00+0.30j  0.00+0.20j\n",
      "5  0.00+0.05j  0.00+0.00j  0.00+0.10j  0.00+0.20j  0.00+0.30j\n"
     ]
    }
   ],
   "source": "nw0.show_impedance_matrix()"
  },
  {
   "cell_type": "code",
   "execution_count": 6,
   "id": "39e25d98-a04e-4089-add1-995eea274b87",
   "metadata": {},
   "outputs": [
    {
     "name": "stdout",
     "output_type": "stream",
     "text": [
      "Node ref [-1]\n",
      "Node 1 [0]\n",
      "Node 2 [1]\n",
      "Node 3 [2]\n",
      "Node 4 [3]\n",
      "Node 5 [4]\n"
     ]
    }
   ],
   "source": [
    "for node in nw0.nodes:\n",
    "    print(node)"
   ]
  },
  {
   "cell_type": "code",
   "execution_count": 7,
   "id": "cbe8ffb9-3ff1-4f40-a67a-e69ea730447a",
   "metadata": {},
   "outputs": [
    {
     "name": "stdout",
     "output_type": "stream",
     "text": [
      "Branch 1 [ref->1]: Z = 0.05j\n",
      "Branch 2 [ref->2]: Z = 0.05j\n",
      "Branch 3 [1->3]: Z = 0.05j\n",
      "Branch 4 [3->4]: Z = 0.3j\n",
      "Branch 5 [3->5]: Z = 0.3j\n",
      "Branch 6 [4->5]: Z = 0.3j\n"
     ]
    }
   ],
   "source": [
    "for branch in nw0.branches:\n",
    "    print(branch)"
   ]
  },
  {
   "cell_type": "markdown",
   "id": "329197ba-7aa5-4a9d-b15d-f229096a3e97",
   "metadata": {},
   "source": [
    "### Positive-Sequence Network"
   ]
  },
  {
   "cell_type": "code",
   "execution_count": 8,
   "id": "9d851fce-211b-4019-8747-243d263d2758",
   "metadata": {},
   "outputs": [],
   "source": [
    "nw1 = Network()\n",
    "nw1.add_branch(Z_G1[1], end_node_ID=\"1\", has_source=True)\n",
    "nw1.add_branch(Z_G2[1], end_node_ID=\"2\", has_source=True)\n",
    "nw1.add_branch(Z_T1[1], start_node_ID=\"1\", end_node_ID=\"3\")\n",
    "nw1.add_branch(Z_T2[1], start_node_ID=\"2\", end_node_ID=\"4\")\n",
    "nw1.add_branch(Z_L1[1], start_node_ID=\"3\", end_node_ID=\"4\")\n",
    "nw1.add_branch(Z_L2[1], start_node_ID=\"3\", end_node_ID=\"5\")\n",
    "nw1.add_branch(Z_L3[1], start_node_ID=\"4\", end_node_ID=\"5\")"
   ]
  },
  {
   "cell_type": "code",
   "execution_count": 9,
   "id": "e9e34ce7-def0-4d53-9461-3cd01eabaef4",
   "metadata": {},
   "outputs": [
    {
     "name": "stdout",
     "output_type": "stream",
     "text": [
      "                    1                   2                   3                   4             5\n",
      "1  0.000000+0.129412j  0.000000+0.070588j  0.000000+0.111765j  0.000000+0.088235j  0.000+0.100j\n",
      "2  0.000000+0.070588j  0.000000+0.129412j  0.000000+0.088235j  0.000000+0.111765j  0.000+0.100j\n",
      "3  0.000000+0.111765j  0.000000+0.088235j  0.000000+0.139706j  0.000000+0.110294j  0.000+0.125j\n",
      "4  0.000000+0.088235j  0.000000+0.111765j  0.000000+0.110294j  0.000000+0.139706j  0.000+0.125j\n",
      "5  0.000000+0.100000j  0.000000+0.100000j  0.000000+0.125000j  0.000000+0.125000j  0.000+0.175j\n"
     ]
    }
   ],
   "source": "nw1.show_impedance_matrix()"
  },
  {
   "cell_type": "markdown",
   "id": "61f79523-1bfb-4f46-ad00-66ed11b0e998",
   "metadata": {},
   "source": [
    "### Negative-Sequence Network"
   ]
  },
  {
   "cell_type": "code",
   "execution_count": 10,
   "id": "da245475-93b3-401f-9f5d-925ca1bd48e0",
   "metadata": {},
   "outputs": [],
   "source": [
    "nw2 = Network()\n",
    "nw2.add_branch(Z_G1[2], end_node_ID=\"1\")\n",
    "nw2.add_branch(Z_G2[2], end_node_ID=\"2\")\n",
    "nw2.add_branch(Z_T1[2], start_node_ID=\"1\", end_node_ID=\"3\")\n",
    "nw2.add_branch(Z_T2[2], start_node_ID=\"2\", end_node_ID=\"4\")\n",
    "nw2.add_branch(Z_L1[2], start_node_ID=\"3\", end_node_ID=\"4\")\n",
    "nw2.add_branch(Z_L2[2], start_node_ID=\"3\", end_node_ID=\"5\")\n",
    "nw2.add_branch(Z_L3[2], start_node_ID=\"4\", end_node_ID=\"5\")"
   ]
  },
  {
   "cell_type": "code",
   "execution_count": 11,
   "id": "16629461-72a5-4d8b-80d6-df6b0eef3285",
   "metadata": {},
   "outputs": [
    {
     "name": "stdout",
     "output_type": "stream",
     "text": [
      "                    1                   2                   3                   4             5\n",
      "1  0.000000+0.129412j  0.000000+0.070588j  0.000000+0.111765j  0.000000+0.088235j  0.000+0.100j\n",
      "2  0.000000+0.070588j  0.000000+0.129412j  0.000000+0.088235j  0.000000+0.111765j  0.000+0.100j\n",
      "3  0.000000+0.111765j  0.000000+0.088235j  0.000000+0.139706j  0.000000+0.110294j  0.000+0.125j\n",
      "4  0.000000+0.088235j  0.000000+0.111765j  0.000000+0.110294j  0.000000+0.139706j  0.000+0.125j\n",
      "5  0.000000+0.100000j  0.000000+0.100000j  0.000000+0.125000j  0.000000+0.125000j  0.000+0.175j\n"
     ]
    }
   ],
   "source": "nw2.show_impedance_matrix()"
  },
  {
   "cell_type": "markdown",
   "id": "f8cf8597-d3ff-4d55-bca1-a7366d22e59e",
   "metadata": {},
   "source": [
    "## Three-Phase Fault"
   ]
  },
  {
   "cell_type": "markdown",
   "id": "f6594554-6df8-4a59-9019-90303af38f1a",
   "metadata": {},
   "source": [
    "Three-phase fault at node 5."
   ]
  },
  {
   "cell_type": "code",
   "execution_count": 12,
   "id": "8a756172-fe47-4f09-a0ec-95072b873261",
   "metadata": {},
   "outputs": [],
   "source": [
    "from short_circuit import ThreePhaseFault"
   ]
  },
  {
   "cell_type": "code",
   "execution_count": 13,
   "id": "9e091658-63c8-4722-86a1-f2a6b5f72090",
   "metadata": {},
   "outputs": [],
   "source": [
    "ph3_fault = ThreePhaseFault(nw1)\n",
    "ph3_fault.set_faulted_node(\"5\")"
   ]
  },
  {
   "cell_type": "markdown",
   "id": "877be55e-f03d-4715-bf86-cadaa3e8c387",
   "metadata": {},
   "source": [
    "### Fault Current"
   ]
  },
  {
   "cell_type": "code",
   "execution_count": 14,
   "id": "60e8994c-8772-4f4a-87e2-e5ac41f111a3",
   "metadata": {},
   "outputs": [
    {
     "name": "stdout",
     "output_type": "stream",
     "text": [
      "-5.714285714285714j\n"
     ]
    }
   ],
   "source": [
    "If_abc = ph3_fault.get_fault_current()\n",
    "print(If_abc)"
   ]
  },
  {
   "cell_type": "code",
   "execution_count": 15,
   "id": "40500c07-5330-4e70-ab82-bfc12754039e",
   "metadata": {},
   "outputs": [
    {
     "name": "stdout",
     "output_type": "stream",
     "text": [
      "5.7143 < -90.00°\n"
     ]
    }
   ],
   "source": [
    "print(complex_number_as_polar_string(If_abc))"
   ]
  },
  {
   "cell_type": "markdown",
   "id": "0dc06392-57b4-4a78-b25d-8f560ccaa618",
   "metadata": {},
   "source": [
    "### Node Voltages"
   ]
  },
  {
   "cell_type": "code",
   "execution_count": 16,
   "id": "6657d1d7-85f2-4a4a-a589-d05e913ce594",
   "metadata": {},
   "outputs": [
    {
     "name": "stdout",
     "output_type": "stream",
     "text": [
      "Node ref [-1] 0.0000 < 0.00°\n",
      "Node 1 [0] 0.4286 < 0.00°\n",
      "Node 2 [1] 0.4286 < 0.00°\n",
      "Node 3 [2] 0.2857 < 0.00°\n",
      "Node 4 [3] 0.2857 < 0.00°\n",
      "Node 5 [4] 0.0000 < 0.00°\n"
     ]
    }
   ],
   "source": [
    "for node in nw1.nodes:\n",
    "    print(\n",
    "        node, \n",
    "        complex_number_as_polar_string(ph3_fault.get_node_voltage(node.ID))\n",
    "    )"
   ]
  },
  {
   "cell_type": "markdown",
   "id": "9705b9bf-131a-46c5-b699-c951d4302624",
   "metadata": {},
   "source": [
    "### Branch Currents"
   ]
  },
  {
   "cell_type": "code",
   "execution_count": 17,
   "id": "79ea4479-382a-4f90-8140-b2810feda2b1",
   "metadata": {},
   "outputs": [
    {
     "name": "stdout",
     "output_type": "stream",
     "text": [
      "Branch 1 [ref->1]: Z = 0.2j 2.8571 < -90.00°\n",
      "Branch 2 [ref->2]: Z = 0.2j 2.8571 < -90.00°\n",
      "Branch 3 [1->3]: Z = 0.05j 2.8571 < -90.00°\n",
      "Branch 4 [2->4]: Z = 0.05j 2.8571 < -90.00°\n",
      "Branch 5 [3->4]: Z = 0.1j 0.0000 < 0.00°\n",
      "Branch 6 [3->5]: Z = 0.1j 2.8571 < -90.00°\n",
      "Branch 7 [4->5]: Z = 0.1j 2.8571 < -90.00°\n"
     ]
    }
   ],
   "source": [
    "for branch in nw1.branches:\n",
    "    print(\n",
    "        branch,\n",
    "        complex_number_as_polar_string(ph3_fault.get_branch_current(branch.ID))\n",
    "    )"
   ]
  },
  {
   "cell_type": "markdown",
   "id": "4c3e8d40-059c-4dd3-aeac-a432e50014bc",
   "metadata": {},
   "source": [
    "## Line-to-Ground Fault"
   ]
  },
  {
   "cell_type": "markdown",
   "id": "061a85bf-39f8-4835-8eea-5fb103526878",
   "metadata": {},
   "source": [
    "Line-to-ground fault at node 5."
   ]
  },
  {
   "cell_type": "code",
   "execution_count": 18,
   "id": "ec703309-2ef2-43de-b37f-fc09b9a910f5",
   "metadata": {},
   "outputs": [],
   "source": [
    "from short_circuit import LineToGroundFault"
   ]
  },
  {
   "cell_type": "code",
   "execution_count": 19,
   "id": "dc19c1a2-237d-473f-afef-4584f0774829",
   "metadata": {},
   "outputs": [],
   "source": [
    "lg = LineToGroundFault([nw0, nw1, nw2])\n",
    "lg.set_faulted_node(\"5\")"
   ]
  },
  {
   "cell_type": "markdown",
   "id": "ca8908ab-9b62-4679-98ec-598a575b3743",
   "metadata": {},
   "source": [
    "### Fault Current"
   ]
  },
  {
   "cell_type": "markdown",
   "id": "7da68042-c236-4b4b-a907-f14c4d3cb576",
   "metadata": {},
   "source": [
    "#### Symmetric Components"
   ]
  },
  {
   "cell_type": "code",
   "execution_count": 20,
   "id": "ca7bca60-dd46-4416-9bb8-bfc7938fa115",
   "metadata": {},
   "outputs": [
    {
     "name": "stdout",
     "output_type": "stream",
     "text": [
      "[[0.-1.53846154j]\n",
      " [0.-1.53846154j]\n",
      " [0.-1.53846154j]]\n"
     ]
    }
   ],
   "source": [
    "If_012 = lg.get_fault_current_012()\n",
    "print(If_012)"
   ]
  },
  {
   "cell_type": "code",
   "execution_count": 21,
   "id": "9ef222c3-4e83-40c9-a25e-71d58a9a7d6d",
   "metadata": {},
   "outputs": [
    {
     "name": "stdout",
     "output_type": "stream",
     "text": [
      "[1.5385 < -90.00°, 1.5385 < -90.00°, 1.5385 < -90.00°]\n"
     ]
    }
   ],
   "source": [
    "print(complex_vector_as_string(If_012))"
   ]
  },
  {
   "cell_type": "markdown",
   "id": "21dcacd0-f327-475c-9796-f8582aad1829",
   "metadata": {},
   "source": [
    "#### Three-Phase Current"
   ]
  },
  {
   "cell_type": "code",
   "execution_count": 22,
   "id": "c4b8d2d1-ec2c-47e6-9387-177e80f293fb",
   "metadata": {},
   "outputs": [
    {
     "name": "stdout",
     "output_type": "stream",
     "text": [
      "[[0.0000000e+00-4.61538462e+00j]\n",
      " [4.4408921e-16+2.22044605e-16j]\n",
      " [4.4408921e-16+2.22044605e-16j]]\n"
     ]
    }
   ],
   "source": [
    "If_abc = lg.get_fault_current_abc()\n",
    "print(If_abc)"
   ]
  },
  {
   "cell_type": "code",
   "execution_count": 23,
   "id": "c76322e1-9b3a-4767-84c9-aae3a4b5bf66",
   "metadata": {},
   "outputs": [
    {
     "name": "stdout",
     "output_type": "stream",
     "text": [
      "[4.6154 < -90.00°, 0.0000 < 26.57°, 0.0000 < 26.57°]\n"
     ]
    }
   ],
   "source": [
    "print(complex_vector_as_string(If_abc))"
   ]
  },
  {
   "cell_type": "markdown",
   "id": "dec1fe76-3857-4b54-98de-b4894dd23cdc",
   "metadata": {},
   "source": [
    "### Node Voltages"
   ]
  },
  {
   "cell_type": "markdown",
   "id": "2ce4c62d-020b-46ac-a880-8ad7963127e4",
   "metadata": {},
   "source": [
    "#### Symmetric Components"
   ]
  },
  {
   "cell_type": "code",
   "execution_count": 24,
   "id": "71ada314-b25a-4d3f-ba10-eeb9924d6d93",
   "metadata": {},
   "outputs": [
    {
     "name": "stdout",
     "output_type": "stream",
     "text": [
      "Node ref [-1] [0.4615 < 180.00°, 0.7308 < 0.00°, 0.2692 < 180.00°]\n",
      "Node 1 [0] [0.0769 < 180.00°, 0.8462 < 0.00°, 0.1538 < 180.00°]\n",
      "Node 2 [1] [0.0000 < 0.00°, 0.8462 < 0.00°, 0.1538 < 180.00°]\n",
      "Node 3 [2] [0.1538 < 180.00°, 0.8077 < 0.00°, 0.1923 < 180.00°]\n",
      "Node 4 [3] [0.3077 < 180.00°, 0.8077 < 0.00°, 0.1923 < 180.00°]\n",
      "Node 5 [4] [0.4615 < 180.00°, 0.7308 < 0.00°, 0.2692 < 180.00°]\n"
     ]
    }
   ],
   "source": [
    "for node in nw1.nodes:\n",
    "    print(\n",
    "        node,\n",
    "        complex_vector_as_string(lg.get_node_voltage_012(node.ID))\n",
    "    )"
   ]
  },
  {
   "cell_type": "markdown",
   "id": "cc6acb24-c05c-4004-9db0-34a87fc3669f",
   "metadata": {},
   "source": [
    "#### Three-Phase Voltages"
   ]
  },
  {
   "cell_type": "code",
   "execution_count": 25,
   "id": "47feab62-f772-41a2-a130-6719f87197a0",
   "metadata": {},
   "outputs": [
    {
     "name": "stdout",
     "output_type": "stream",
     "text": [
      "Node ref [-1] [0.0000 < 0.00°, 1.1087 < -128.64°, 1.1087 < 128.64°]\n",
      "Node 1 [0] [0.6154 < 0.00°, 0.9638 < -116.04°, 0.9638 < 116.04°]\n",
      "Node 2 [1] [0.6923 < 0.00°, 0.9326 < -111.79°, 0.9326 < 111.79°]\n",
      "Node 3 [2] [0.4615 < 0.00°, 0.9813 < -118.05°, 0.9813 < 118.05°]\n",
      "Node 4 [3] [0.3077 < 0.00°, 1.0624 < -125.40°, 1.0624 < 125.40°]\n",
      "Node 5 [4] [0.0000 < 0.00°, 1.1087 < -128.64°, 1.1087 < 128.64°]\n"
     ]
    }
   ],
   "source": [
    "for node in nw1.nodes:\n",
    "    print(\n",
    "        node,\n",
    "        complex_vector_as_string(lg.get_node_voltage_abc(node.ID))\n",
    "    )"
   ]
  },
  {
   "cell_type": "markdown",
   "id": "c99c6a67-8c62-4035-b85d-ac598166fae5",
   "metadata": {},
   "source": [
    "### Branch Currents"
   ]
  },
  {
   "cell_type": "markdown",
   "id": "25203902-e25c-4dac-8f13-cf1494c8aae9",
   "metadata": {},
   "source": [
    "#### Symmetric Components"
   ]
  },
  {
   "cell_type": "code",
   "execution_count": 26,
   "id": "405aa7dd-d3f8-4119-a13e-8c9b5684b922",
   "metadata": {},
   "outputs": [
    {
     "name": "stdout",
     "output_type": "stream",
     "text": [
      "Branch 1 [ref->1]: Z = 0.2j [1.5385 < -90.00°, 0.7692 < -90.00°, 0.7692 < -90.00°]\n",
      "Branch 2 [ref->2]: Z = 0.2j [0.0000 < 0.00°, 0.7692 < -90.00°, 0.7692 < -90.00°]\n",
      "Branch 3 [1->3]: Z = 0.05j [1.5385 < -90.00°, 0.7692 < -90.00°, 0.7692 < -90.00°]\n",
      "Branch 4 [2->4]: Z = 0.05j [0.0000 < 0.00°, 0.7692 < -90.00°, 0.7692 < -90.00°]\n",
      "Branch 5 [3->4]: Z = 0.1j [0.5128 < -90.00°, 0.0000 < 0.00°, 0.0000 < -90.00°]\n",
      "Branch 6 [3->5]: Z = 0.1j [1.0256 < -90.00°, 0.7692 < -90.00°, 0.7692 < -90.00°]\n",
      "Branch 7 [4->5]: Z = 0.1j [0.5128 < -90.00°, 0.7692 < -90.00°, 0.7692 < -90.00°]\n"
     ]
    }
   ],
   "source": [
    "for branch in nw1.branches:\n",
    "    print(\n",
    "        branch,\n",
    "        complex_vector_as_string(lg.get_branch_current_012(branch.ID))\n",
    "    )"
   ]
  },
  {
   "cell_type": "markdown",
   "id": "58188044-397e-4db4-a0b6-9745874eadfb",
   "metadata": {},
   "source": [
    "#### Three-Phase Currents"
   ]
  },
  {
   "cell_type": "code",
   "execution_count": 27,
   "id": "2919bdb3-3316-4cb1-885b-4e08ace4b544",
   "metadata": {},
   "outputs": [
    {
     "name": "stdout",
     "output_type": "stream",
     "text": [
      "Branch 1 [ref->1]: Z = 0.2j [3.0769 < -90.00°, 0.7692 < -90.00°, 0.7692 < -90.00°]\n",
      "Branch 2 [ref->2]: Z = 0.2j [1.5385 < -90.00°, 0.7692 < 90.00°, 0.7692 < 90.00°]\n",
      "Branch 3 [1->3]: Z = 0.05j [3.0769 < -90.00°, 0.7692 < -90.00°, 0.7692 < -90.00°]\n",
      "Branch 4 [2->4]: Z = 0.05j [1.5385 < -90.00°, 0.7692 < 90.00°, 0.7692 < 90.00°]\n",
      "Branch 5 [3->4]: Z = 0.1j [0.5128 < -90.00°, 0.5128 < -90.00°, 0.5128 < -90.00°]\n",
      "Branch 6 [3->5]: Z = 0.1j [2.5641 < -90.00°, 0.2564 < -90.00°, 0.2564 < -90.00°]\n",
      "Branch 7 [4->5]: Z = 0.1j [2.0513 < -90.00°, 0.2564 < 90.00°, 0.2564 < 90.00°]\n"
     ]
    }
   ],
   "source": [
    "for branch in nw1.branches:\n",
    "    print(\n",
    "        branch,\n",
    "        complex_vector_as_string(lg.get_branch_current_abc(branch.ID))\n",
    "    )"
   ]
  },
  {
   "cell_type": "markdown",
   "id": "da028530-86b5-4d93-838c-3c37775376e1",
   "metadata": {},
   "source": [
    "## Line-to-Line Fault "
   ]
  },
  {
   "cell_type": "code",
   "execution_count": 28,
   "id": "e114c1ff-99ae-4441-bd5d-0aada844f72b",
   "metadata": {},
   "outputs": [],
   "source": [
    "from short_circuit import LineToLineFault"
   ]
  },
  {
   "cell_type": "code",
   "execution_count": 29,
   "id": "9eb3ca9d-339f-4c31-9965-0a90eafc382d",
   "metadata": {},
   "outputs": [],
   "source": [
    "ll = LineToLineFault([nw0, nw1, nw2])\n",
    "ll.set_faulted_node(\"5\")"
   ]
  },
  {
   "cell_type": "markdown",
   "id": "88324cf6-f7e1-4058-873f-527d691ee2b5",
   "metadata": {},
   "source": [
    "### Fault Current"
   ]
  },
  {
   "cell_type": "markdown",
   "id": "a22493eb-d376-45ed-ab94-3152623a7053",
   "metadata": {},
   "source": [
    "#### Symmetric Components"
   ]
  },
  {
   "cell_type": "code",
   "execution_count": 30,
   "id": "83289c5e-7dbb-4dca-8d14-7702e77c618a",
   "metadata": {},
   "outputs": [
    {
     "name": "stdout",
     "output_type": "stream",
     "text": [
      "[[ 0.+0.j        ]\n",
      " [ 0.-2.85714286j]\n",
      " [-0.+2.85714286j]]\n"
     ]
    }
   ],
   "source": [
    "If_012 = ll.get_fault_current_012()\n",
    "print(If_012)"
   ]
  },
  {
   "cell_type": "code",
   "execution_count": 31,
   "id": "2834762e-2346-4623-927b-d5be46601c86",
   "metadata": {},
   "outputs": [
    {
     "name": "stdout",
     "output_type": "stream",
     "text": [
      "[0.0000 < 0.00°, 2.8571 < -90.00°, 2.8571 < 90.00°]\n"
     ]
    }
   ],
   "source": [
    "print(complex_vector_as_string(If_012))"
   ]
  },
  {
   "cell_type": "markdown",
   "id": "52cc402d-c7e4-4523-b368-a9ec338bc3c7",
   "metadata": {},
   "source": [
    "#### Three-Phase Current"
   ]
  },
  {
   "cell_type": "code",
   "execution_count": 32,
   "id": "170f4e4e-3a4b-4ac8-b3d6-3ff5512d7de0",
   "metadata": {},
   "outputs": [
    {
     "name": "stdout",
     "output_type": "stream",
     "text": [
      "[[ 0.        +0.00000000e+00j]\n",
      " [-4.94871659+1.55431223e-15j]\n",
      " [ 4.94871659-1.55431223e-15j]]\n"
     ]
    }
   ],
   "source": [
    "If_abc = ll.get_fault_current_abc()\n",
    "print(If_abc)"
   ]
  },
  {
   "cell_type": "code",
   "execution_count": 33,
   "id": "93028fdf-8921-4390-9f08-a3e3e8da9908",
   "metadata": {},
   "outputs": [
    {
     "name": "stdout",
     "output_type": "stream",
     "text": [
      "[0.0000 < 0.00°, 4.9487 < 180.00°, 4.9487 < -0.00°]\n"
     ]
    }
   ],
   "source": [
    "print(complex_vector_as_string(If_abc))"
   ]
  },
  {
   "cell_type": "markdown",
   "id": "976d308f-9ece-4224-adcd-9f6d4f5cb573",
   "metadata": {},
   "source": [
    "### Node Voltages"
   ]
  },
  {
   "cell_type": "markdown",
   "id": "ae457f0c-5fc8-4f55-bb15-9610aa684c6e",
   "metadata": {},
   "source": [
    "#### Symmetric Components"
   ]
  },
  {
   "cell_type": "code",
   "execution_count": 34,
   "id": "9b79ed88-0d3c-4509-9553-659ef82f45e5",
   "metadata": {},
   "outputs": [
    {
     "name": "stdout",
     "output_type": "stream",
     "text": [
      "Node ref [-1] [0.0000 < 0.00°, 0.5000 < 0.00°, 0.5000 < 0.00°]\n",
      "Node 1 [0] [0.0000 < 0.00°, 0.7143 < 0.00°, 0.2857 < 0.00°]\n",
      "Node 2 [1] [0.0000 < 0.00°, 0.7143 < 0.00°, 0.2857 < 0.00°]\n",
      "Node 3 [2] [0.0000 < 0.00°, 0.6429 < 0.00°, 0.3571 < 0.00°]\n",
      "Node 4 [3] [0.0000 < 0.00°, 0.6429 < 0.00°, 0.3571 < 0.00°]\n",
      "Node 5 [4] [0.0000 < 0.00°, 0.5000 < 0.00°, 0.5000 < 0.00°]\n"
     ]
    }
   ],
   "source": [
    "for node in nw1.nodes:\n",
    "    print(\n",
    "        node,\n",
    "        complex_vector_as_string(ll.get_node_voltage_012(node.ID))\n",
    "    )"
   ]
  },
  {
   "cell_type": "markdown",
   "id": "6ef0d10f-be57-43a2-9278-df217f9372b9",
   "metadata": {},
   "source": [
    "#### Three-Phase Voltages"
   ]
  },
  {
   "cell_type": "code",
   "execution_count": 35,
   "id": "4918a84b-501e-440b-b707-60e1cdbf050b",
   "metadata": {},
   "outputs": [
    {
     "name": "stdout",
     "output_type": "stream",
     "text": [
      "Node ref [-1] [1.0000 < 0.00°, 0.5000 < 180.00°, 0.5000 < 180.00°]\n",
      "Node 1 [0] [1.0000 < 0.00°, 0.6227 < -143.41°, 0.6227 < 143.41°]\n",
      "Node 2 [1] [1.0000 < 0.00°, 0.6227 < -143.41°, 0.6227 < 143.41°]\n",
      "Node 3 [2] [1.0000 < 0.00°, 0.5579 < -153.67°, 0.5579 < 153.67°]\n",
      "Node 4 [3] [1.0000 < 0.00°, 0.5579 < -153.67°, 0.5579 < 153.67°]\n",
      "Node 5 [4] [1.0000 < 0.00°, 0.5000 < 180.00°, 0.5000 < 180.00°]\n"
     ]
    }
   ],
   "source": [
    "for node in nw1.nodes:\n",
    "    print(\n",
    "        node,\n",
    "        complex_vector_as_string(ll.get_node_voltage_abc(node.ID))\n",
    "    )"
   ]
  },
  {
   "cell_type": "markdown",
   "id": "dc1dac86-2698-4a30-8787-e4d7fc6879e9",
   "metadata": {},
   "source": [
    "### Branch Currents"
   ]
  },
  {
   "cell_type": "markdown",
   "id": "9782949e-b59d-4e15-ba61-5b233315a194",
   "metadata": {},
   "source": [
    "#### Symmetric Components"
   ]
  },
  {
   "cell_type": "code",
   "execution_count": 36,
   "id": "badb6da5-9ce2-4555-a2e4-96f562b117c5",
   "metadata": {},
   "outputs": [
    {
     "name": "stdout",
     "output_type": "stream",
     "text": [
      "Branch 1 [ref->1]: Z = 0.2j [0.0000 < 0.00°, 1.4286 < -90.00°, 1.4286 < 90.00°]\n",
      "Branch 2 [ref->2]: Z = 0.2j [0.0000 < 0.00°, 1.4286 < -90.00°, 1.4286 < 90.00°]\n",
      "Branch 3 [1->3]: Z = 0.05j [0.0000 < 0.00°, 1.4286 < -90.00°, 1.4286 < 90.00°]\n",
      "Branch 4 [2->4]: Z = 0.05j [0.0000 < 0.00°, 1.4286 < -90.00°, 1.4286 < 90.00°]\n",
      "Branch 5 [3->4]: Z = 0.1j [0.0000 < 0.00°, 0.0000 < -90.00°, 0.0000 < 90.00°]\n",
      "Branch 6 [3->5]: Z = 0.1j [0.0000 < 0.00°, 1.4286 < -90.00°, 1.4286 < 90.00°]\n",
      "Branch 7 [4->5]: Z = 0.1j [0.0000 < 0.00°, 1.4286 < -90.00°, 1.4286 < 90.00°]\n"
     ]
    }
   ],
   "source": [
    "for branch in nw1.branches:\n",
    "    print(\n",
    "        branch,\n",
    "        complex_vector_as_string(ll.get_branch_current_012(branch.ID))\n",
    "    )"
   ]
  },
  {
   "cell_type": "markdown",
   "id": "04b67861-2e70-4665-a92a-9d50fdca0031",
   "metadata": {},
   "source": [
    "#### Three-Phase Currents"
   ]
  },
  {
   "cell_type": "code",
   "execution_count": 37,
   "id": "a753476f-8a23-47a2-acd1-94abf5d207c1",
   "metadata": {},
   "outputs": [
    {
     "name": "stdout",
     "output_type": "stream",
     "text": [
      "Branch 1 [ref->1]: Z = 0.2j [0.0000 < -90.00°, 2.4744 < 180.00°, 2.4744 < -0.00°]\n",
      "Branch 2 [ref->2]: Z = 0.2j [0.0000 < -90.00°, 2.4744 < 180.00°, 2.4744 < -0.00°]\n",
      "Branch 3 [1->3]: Z = 0.05j [0.0000 < 90.00°, 2.4744 < 180.00°, 2.4744 < -0.00°]\n",
      "Branch 4 [2->4]: Z = 0.05j [0.0000 < 0.00°, 2.4744 < 180.00°, 2.4744 < -0.00°]\n",
      "Branch 5 [3->4]: Z = 0.1j [0.0000 < -90.00°, 0.0000 < 169.11°, 0.0000 < 10.89°]\n",
      "Branch 6 [3->5]: Z = 0.1j [0.0000 < 0.00°, 2.4744 < 180.00°, 2.4744 < -0.00°]\n",
      "Branch 7 [4->5]: Z = 0.1j [0.0000 < 90.00°, 2.4744 < 180.00°, 2.4744 < -0.00°]\n"
     ]
    }
   ],
   "source": [
    "for branch in nw1.branches:\n",
    "    print(\n",
    "        branch,\n",
    "        complex_vector_as_string(ll.get_branch_current_abc(branch.ID))\n",
    "    )"
   ]
  },
  {
   "cell_type": "markdown",
   "id": "b47ad38a-de6d-49ab-b950-4178917797fb",
   "metadata": {},
   "source": [
    "## Double Line-to-Ground Fault"
   ]
  },
  {
   "cell_type": "code",
   "execution_count": 38,
   "id": "683ddbba-84cc-462f-8fc9-d8a36e1980d7",
   "metadata": {},
   "outputs": [],
   "source": [
    "from short_circuit import LineToLineToGroundFault"
   ]
  },
  {
   "cell_type": "code",
   "execution_count": 39,
   "id": "4853818a-206f-48ba-987d-ee72b4d30331",
   "metadata": {},
   "outputs": [],
   "source": [
    "llg = LineToLineToGroundFault([nw0, nw1, nw2])\n",
    "llg.set_faulted_node(\"5\")"
   ]
  },
  {
   "cell_type": "markdown",
   "id": "526ef7ba-932b-4bab-967a-48559ece69ab",
   "metadata": {},
   "source": [
    "### Fault Current"
   ]
  },
  {
   "cell_type": "markdown",
   "id": "b54aa3bf-0ea0-4972-b436-539745696b26",
   "metadata": {},
   "source": [
    "#### Symmetric Components"
   ]
  },
  {
   "cell_type": "code",
   "execution_count": 40,
   "id": "7e8eeacc-1d69-467c-a8a2-d117c7494c80",
   "metadata": {},
   "outputs": [
    {
     "name": "stdout",
     "output_type": "stream",
     "text": [
      "[[-0.+1.29032258j]\n",
      " [ 0.-3.50230415j]\n",
      " [-0.+2.21198157j]]\n"
     ]
    }
   ],
   "source": [
    "If_012 = llg.get_fault_current_012()\n",
    "print(If_012)"
   ]
  },
  {
   "cell_type": "code",
   "execution_count": 41,
   "id": "48f28bdb-2b28-479e-aec0-4c5456fc9407",
   "metadata": {},
   "outputs": [
    {
     "name": "stdout",
     "output_type": "stream",
     "text": [
      "[1.2903 < 90.00°, 3.5023 < -90.00°, 2.2120 < 90.00°]\n"
     ]
    }
   ],
   "source": [
    "print(complex_vector_as_string(If_012))"
   ]
  },
  {
   "cell_type": "markdown",
   "id": "3e4dbf68-6939-4625-8e86-b06124e6f062",
   "metadata": {},
   "source": [
    "#### Three-phase Current"
   ]
  },
  {
   "cell_type": "code",
   "execution_count": 42,
   "id": "39e96914-e437-4325-80a2-33247ebf02c8",
   "metadata": {},
   "outputs": [
    {
     "name": "stdout",
     "output_type": "stream",
     "text": [
      "[[ 0.        +0.j        ]\n",
      " [-4.94871659+1.93548387j]\n",
      " [ 4.94871659+1.93548387j]]\n"
     ]
    }
   ],
   "source": [
    "If_abc = llg.get_fault_current_abc()\n",
    "print(If_abc)"
   ]
  },
  {
   "cell_type": "code",
   "execution_count": 43,
   "id": "1f1ebd79-500c-4254-a4a3-7af020d702f4",
   "metadata": {},
   "outputs": [
    {
     "name": "stdout",
     "output_type": "stream",
     "text": [
      "[0.0000 < 0.00°, 5.3137 < 158.64°, 5.3137 < 21.36°]\n"
     ]
    }
   ],
   "source": [
    "print(complex_vector_as_string(If_abc))"
   ]
  },
  {
   "cell_type": "markdown",
   "id": "e406c688-ca94-4785-97b7-46df247f7fa1",
   "metadata": {},
   "source": [
    "### Node Voltages"
   ]
  },
  {
   "cell_type": "markdown",
   "id": "ffe2d84b-af26-4691-a367-9ababe399ce2",
   "metadata": {},
   "source": [
    "#### Symmetric Components"
   ]
  },
  {
   "cell_type": "code",
   "execution_count": 44,
   "id": "4783cc4e-57f9-47ef-b007-767b1cd019e3",
   "metadata": {},
   "outputs": [
    {
     "name": "stdout",
     "output_type": "stream",
     "text": [
      "Node ref [-1] [0.3871 < 0.00°, 0.3871 < 0.00°, 0.3871 < 0.00°]\n",
      "Node 1 [0] [0.0645 < 0.00°, 0.6498 < 0.00°, 0.2212 < 0.00°]\n",
      "Node 2 [1] [0.0000 < 0.00°, 0.6498 < 0.00°, 0.2212 < 0.00°]\n",
      "Node 3 [2] [0.1290 < 0.00°, 0.5622 < 0.00°, 0.2765 < 0.00°]\n",
      "Node 4 [3] [0.2581 < 0.00°, 0.5622 < 0.00°, 0.2765 < 0.00°]\n",
      "Node 5 [4] [0.3871 < 0.00°, 0.3871 < 0.00°, 0.3871 < 0.00°]\n"
     ]
    }
   ],
   "source": [
    "for node in nw1.nodes:\n",
    "    print(\n",
    "        node,\n",
    "        complex_vector_as_string(llg.get_node_voltage_012(node.ID))\n",
    "    )"
   ]
  },
  {
   "cell_type": "markdown",
   "id": "97d170c8-a7c6-4e7d-92e0-aa6e29bc9242",
   "metadata": {},
   "source": [
    "#### Three-Phase Voltages"
   ]
  },
  {
   "cell_type": "code",
   "execution_count": 45,
   "id": "f8d66695-5978-4c5b-ae53-9f7dde999f57",
   "metadata": {},
   "outputs": [
    {
     "name": "stdout",
     "output_type": "stream",
     "text": [
      "Node ref [-1] [1.1613 < 0.00°, 0.0000 < 153.43°, 0.0000 < 116.57°]\n",
      "Node 1 [0] [0.9355 < 0.00°, 0.5248 < -134.99°, 0.5248 < 134.99°]\n",
      "Node 2 [1] [0.8710 < 0.00°, 0.5722 < -139.56°, 0.5722 < 139.56°]\n",
      "Node 3 [2] [0.9677 < 0.00°, 0.3815 < -139.56°, 0.3815 < 139.56°]\n",
      "Node 4 [3] [1.0968 < 0.00°, 0.2954 < -123.10°, 0.2954 < 123.10°]\n",
      "Node 5 [4] [1.1613 < 0.00°, 0.0000 < 153.43°, 0.0000 < 116.57°]\n"
     ]
    }
   ],
   "source": [
    "for node in nw1.nodes:\n",
    "    print(\n",
    "        node,\n",
    "        complex_vector_as_string(llg.get_node_voltage_abc(node.ID))\n",
    "    )"
   ]
  },
  {
   "cell_type": "markdown",
   "id": "8aaa83ee-2bf9-47b2-8340-8a3e940d7562",
   "metadata": {},
   "source": [
    "### Branch Currents"
   ]
  },
  {
   "cell_type": "markdown",
   "id": "331801c2-ab81-411e-92d9-94ce7c6cf64c",
   "metadata": {},
   "source": [
    "#### Symmetric Components"
   ]
  },
  {
   "cell_type": "code",
   "execution_count": 46,
   "id": "17a3c07e-f519-42cf-bbb4-f7603c8d904e",
   "metadata": {},
   "outputs": [
    {
     "name": "stdout",
     "output_type": "stream",
     "text": [
      "Branch 1 [ref->1]: Z = 0.2j [1.2903 < 90.00°, 1.7512 < -90.00°, 1.1060 < 90.00°]\n",
      "Branch 2 [ref->2]: Z = 0.2j [0.0000 < 0.00°, 1.7512 < -90.00°, 1.1060 < 90.00°]\n",
      "Branch 3 [1->3]: Z = 0.05j [1.2903 < 90.00°, 1.7512 < -90.00°, 1.1060 < 90.00°]\n",
      "Branch 4 [2->4]: Z = 0.05j [0.0000 < 0.00°, 1.7512 < -90.00°, 1.1060 < 90.00°]\n",
      "Branch 5 [3->4]: Z = 0.1j [0.4301 < 90.00°, 0.0000 < 0.00°, 0.0000 < 90.00°]\n",
      "Branch 6 [3->5]: Z = 0.1j [0.8602 < 90.00°, 1.7512 < -90.00°, 1.1060 < 90.00°]\n",
      "Branch 7 [4->5]: Z = 0.1j [0.4301 < 90.00°, 1.7512 < -90.00°, 1.1060 < 90.00°]\n"
     ]
    }
   ],
   "source": [
    "for branch in nw1.branches:\n",
    "    print(\n",
    "        branch,\n",
    "        complex_vector_as_string(llg.get_branch_current_012(branch.ID))\n",
    "    )"
   ]
  },
  {
   "cell_type": "markdown",
   "id": "0fc78d64-f24d-423c-8d0a-1bb5136c1ce9",
   "metadata": {},
   "source": [
    "#### Three-Phase Currents"
   ]
  },
  {
   "cell_type": "code",
   "execution_count": 47,
   "id": "68e45034-7b1c-420d-a98b-68a6cc91fe49",
   "metadata": {},
   "outputs": [
    {
     "name": "stdout",
     "output_type": "stream",
     "text": [
      "Branch 1 [ref->1]: Z = 0.2j [0.6452 < 90.00°, 2.9536 < 146.90°, 2.9536 < 33.10°]\n",
      "Branch 2 [ref->2]: Z = 0.2j [0.6452 < -90.00°, 2.4953 < 172.57°, 2.4953 < 7.43°]\n",
      "Branch 3 [1->3]: Z = 0.05j [0.6452 < 90.00°, 2.9536 < 146.90°, 2.9536 < 33.10°]\n",
      "Branch 4 [2->4]: Z = 0.05j [0.6452 < -90.00°, 2.4953 < 172.57°, 2.4953 < 7.43°]\n",
      "Branch 5 [3->4]: Z = 0.1j [0.4301 < 90.00°, 0.4301 < 90.00°, 0.4301 < 90.00°]\n",
      "Branch 6 [3->5]: Z = 0.1j [0.2151 < 90.00°, 2.7425 < 154.45°, 2.7425 < 25.55°]\n",
      "Branch 7 [4->5]: Z = 0.1j [0.2151 < -90.00°, 2.5863 < 163.08°, 2.5863 < 16.92°]\n"
     ]
    }
   ],
   "source": [
    "for branch in nw1.branches:\n",
    "    print(\n",
    "        branch,\n",
    "        complex_vector_as_string(llg.get_branch_current_abc(branch.ID))\n",
    "    )"
   ]
  },
  {
   "cell_type": "code",
   "execution_count": null,
   "id": "d437fcb6-e9f8-4744-93f8-c1f9e1641893",
   "metadata": {},
   "outputs": [],
   "source": []
  }
 ],
 "metadata": {
  "kernelspec": {
   "display_name": "Python 3 (ipykernel)",
   "language": "python",
   "name": "python3"
  },
  "language_info": {
   "codemirror_mode": {
    "name": "ipython",
    "version": 3
   },
   "file_extension": ".py",
   "mimetype": "text/x-python",
   "name": "python",
   "nbconvert_exporter": "python",
   "pygments_lexer": "ipython3",
   "version": "3.13.1"
  }
 },
 "nbformat": 4,
 "nbformat_minor": 5
}
