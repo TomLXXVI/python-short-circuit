{
 "cells": [
  {
   "cell_type": "code",
   "execution_count": 1,
   "id": "initial_id",
   "metadata": {},
   "outputs": [],
   "source": [
    "import sys\n",
    "\n",
    "if (path := \"C:/Users/Tom/PycharmProjects/short_circuit\") not in sys.path:\n",
    "    sys.path.append(path)"
   ]
  },
  {
   "cell_type": "markdown",
   "id": "fa88d27d-1b88-4227-aa14-8887ca956b16",
   "metadata": {},
   "source": [
    "# Three-Phase Near-To-Generator Short-Circuit\n",
    "---"
   ]
  },
  {
   "cell_type": "markdown",
   "id": "8f3f07be-7717-45e6-bffc-d2f273ede9dd",
   "metadata": {},
   "source": [
    "*This notebook solves example 4.6.1 from Schlabbach, J. (2005). Short-circuit Currents. IET.*"
   ]
  },
  {
   "cell_type": "markdown",
   "id": "d4038c08-0047-4fca-a140-29b7b56ce17d",
   "metadata": {},
   "source": [
    "Consider the line diagram of a 220-kV system below."
   ]
  },
  {
   "cell_type": "markdown",
   "id": "22b8ac1d-8f8c-4511-a5d3-7d52eb72f1c4",
   "metadata": {},
   "source": [
    "<img src=\"./figures/ex1_line_diagram.png\" style=\"max-width: 75%; height: auto; margin-left:auto; margin-right:auto\">"
   ]
  },
  {
   "cell_type": "markdown",
   "id": "4132221c-d601-4b41-b917-a9e9d467a9e6",
   "metadata": {},
   "source": [
    "For a three-phase short circuit at bus bar B, the branch short-circuit currents of the generators and the system feeder are to be calculated. Data of equipment is taken from the nameplates:\n",
    "\n",
    "**Generator G1**\n",
    "- $S_{rG1}$ = 120 MVA\n",
    "- $U_{rG1}$ = 10.5 kV\n",
    "- $\\cos \\varphi_{rG1}$ = 0.8\n",
    "- $x''_{dG1}$ = 18%\n",
    "\n",
    "**Generator G2**\n",
    "- $S_{rG2}$ = 80 MVA\n",
    "- $U_{rG2}$ = 10.5 kV\n",
    "- $\\cos \\varphi_{rG2}$ = 0.85\n",
    "- $x''_{dG2}$ = 16%\n",
    "\n",
    "**Transformer T1**\n",
    "- $S_{rT1}$ = 120 MVA\n",
    "- $U_{rT1HV}/U_{rT1LV}$ = 220 kV/10.5 kV\n",
    "- $u_{krT1}$ = 14%\n",
    "\n",
    "**Transformer T2**\n",
    "- $S_{rT2}$ = 80 MVA\n",
    "- $U_{rT2HV}/U_{rT2LV}$ = 220 kV/10.5 kV\n",
    "- $u_{krT2}$ = 12%\n",
    "\n",
    "**Transformer T3**\n",
    "- $S_{rT3}$ = 200 MVA\n",
    "- $U_{rT3HV}/U_{rT3LV}$ = 400 kV/220 kV\n",
    "- $u_{krT3}$ = 12%\n",
    "\n",
    "**System feeder Q**\n",
    "- $S''_{kQ}$ = 5 GVA\n",
    "- $U_{nQ}$ = 380 kV\n",
    "\n",
    "**Transmission lines L1 and L2**\n",
    "- $X'_{L1}$ = $X'_{L2}$ = 0.4 ${\\Omega}$/km\n",
    "- $l$ = 50 km"
   ]
  },
  {
   "cell_type": "markdown",
   "id": "da800a6c-2226-4da8-b60a-0843aff0bf4c",
   "metadata": {},
   "source": [
    "## Impedance of Electrical Equipment "
   ]
  },
  {
   "cell_type": "code",
   "execution_count": 2,
   "id": "07fb57e8-1c1c-4761-88da-43021f372629",
   "metadata": {},
   "outputs": [],
   "source": [
    "from short_circuit import Quantity\n",
    "from short_circuit.equipment import Generator, Transformer, PowerGrid\n",
    "\n",
    "Q_ = Quantity"
   ]
  },
  {
   "cell_type": "markdown",
   "id": "0f94a6e9-9ae3-4ecb-95cf-8f845a4ed4d0",
   "metadata": {},
   "source": [
    "From the name plate data, the impedances of the network components can be calculated."
   ]
  },
  {
   "cell_type": "markdown",
   "id": "884914cb-e203-45e6-9685-50f8f43f622c",
   "metadata": {},
   "source": [
    "> **Voltage factor $c$ according to IEC 60909-0**<br>\n",
    "The voltage factor $c$ takes account of the differences between the voltage at the short-circuit location and the internal voltage of system feeders, motors and generators due to voltage variations (time and place), operating of transformer tap-changer, etc.\n",
    "> | Nominal system voltage $U_n$ | Maximal s.c. current $c_{max}$ | Minimal s.c. current $c_{min}$ |\n",
    "> | ---------------------------- |:------------------------------:|:------------------------------:|\n",
    "> | LV: 100 V up to 1000 V (inclusive), voltage tolerance +6% | 1.05 | 0.95 |\n",
    "> | LV: 100 V up to 1000 V (inclusive), voltage tolerance +10% | 1.10 | 0.95 |\n",
    "> | MV: > 1 kV up to 35 kV (inclusive) | 1.10 | 1.00 |\n",
    "> | HV: > 35 kV | 1.10 | 1.00 |"
   ]
  },
  {
   "cell_type": "markdown",
   "id": "f66a0960-3b84-4f78-99e3-91e0558b2728",
   "metadata": {},
   "source": [
    "**Impedance of system feeder**"
   ]
  },
  {
   "cell_type": "code",
   "execution_count": 3,
   "id": "fb70e693-8347-451b-a240-c4c036fcb75e",
   "metadata": {},
   "outputs": [],
   "source": [
    "feeder = PowerGrid(\n",
    "    line_voltage=Q_(380, 'kV'),\n",
    "    short_circuit_power=Q_(5, 'GVA'),\n",
    "    R_to_X_ratio=1.e-9,\n",
    "    voltage_factor=1.1\n",
    ")"
   ]
  },
  {
   "cell_type": "markdown",
   "id": "657fb48a-aef1-4670-ab32-7ec8359ca045",
   "metadata": {},
   "source": [
    "**Impedance of synchronous generator G1**"
   ]
  },
  {
   "cell_type": "code",
   "execution_count": 4,
   "id": "a2cb008f-1925-4315-8c9f-91394d571e0c",
   "metadata": {},
   "outputs": [],
   "source": [
    "generator_G1 = Generator(\n",
    "    nominal_voltage=Q_(10.5, 'kV'),\n",
    "    nominal_power=Q_(120, 'MVA'),\n",
    "    per_unit_reactance=Q_(18, 'pct'),\n",
    "    power_factor=0.8,\n",
    "    R_to_X_ratio=0.05,\n",
    "    voltage_factor=1.1\n",
    ")"
   ]
  },
  {
   "cell_type": "markdown",
   "id": "5ea59d97-dc2d-4443-b7e0-7c6df413ecf4",
   "metadata": {},
   "source": [
    "**Impedance of synchronous generator G2**"
   ]
  },
  {
   "cell_type": "code",
   "execution_count": 5,
   "id": "aeace7f6-9014-42c6-8419-d308a36fd9bc",
   "metadata": {},
   "outputs": [],
   "source": [
    "generator_G2 = Generator(\n",
    "    nominal_voltage=Q_(10.5, 'kV'),\n",
    "    nominal_power=Q_(80, 'MVA'),\n",
    "    per_unit_reactance=Q_(16, 'pct'),\n",
    "    power_factor=0.85,\n",
    "    R_to_X_ratio=0.05,\n",
    "    voltage_factor=1.1\n",
    ")"
   ]
  },
  {
   "cell_type": "markdown",
   "id": "3195d4c4-a3ca-41ac-a924-4db624e10200",
   "metadata": {},
   "source": [
    "**Impedance of transformer T1 referred to secondary side**"
   ]
  },
  {
   "cell_type": "code",
   "execution_count": 6,
   "id": "873b9580-81d6-4e95-a2cb-59a25da472f5",
   "metadata": {},
   "outputs": [],
   "source": [
    "transformer_T1 = Transformer(\n",
    "    nominal_voltage=Q_(10.5, 'kV'),\n",
    "    nominal_power=Q_(120, 'MVA'),\n",
    "    percent_short_circuit_voltage=Q_(14, 'pct'),\n",
    "    voltage_factor=1.1\n",
    ")"
   ]
  },
  {
   "cell_type": "markdown",
   "id": "6f35385f-3aa4-4b2c-85c2-4951b67f68d0",
   "metadata": {},
   "source": [
    "**Impedance of transformer T2 referred to secondary side**"
   ]
  },
  {
   "cell_type": "code",
   "execution_count": 7,
   "id": "ac5a872a-e56f-492f-89cf-3b77b470218c",
   "metadata": {},
   "outputs": [],
   "source": [
    "transformer_T2 = Transformer(\n",
    "    nominal_voltage=Q_(10.5, 'kV'),\n",
    "    nominal_power=Q_(80, 'MVA'),\n",
    "    percent_short_circuit_voltage=Q_(12, 'pct'),\n",
    "    voltage_factor=1.1\n",
    ")"
   ]
  },
  {
   "cell_type": "markdown",
   "id": "f843cfc9-9d33-4ee9-ad0b-95086d2e7414",
   "metadata": {},
   "source": [
    "**Impedance of transformer T3 referred to secondary side**"
   ]
  },
  {
   "cell_type": "code",
   "execution_count": 8,
   "id": "60cecaf1-24e6-4187-8b0d-8ad28c960a3b",
   "metadata": {},
   "outputs": [],
   "source": [
    "transformer_T3 = Transformer(\n",
    "    nominal_voltage=Q_(220, 'kV'),  # referred to secondary side\n",
    "    nominal_power=Q_(200, 'MVA'),\n",
    "    percent_short_circuit_voltage=Q_(12, 'pct'),\n",
    "    voltage_factor=1.1\n",
    ")"
   ]
  },
  {
   "cell_type": "markdown",
   "id": "66c62a68-1ed4-4d9f-b06a-8dd399e34497",
   "metadata": {},
   "source": [
    "## Per-Unit Impedance of Electrical Equipment"
   ]
  },
  {
   "cell_type": "code",
   "execution_count": 9,
   "id": "6c0358e6-fcc6-4f9e-8b20-0cd1028857ec",
   "metadata": {},
   "outputs": [],
   "source": [
    "from short_circuit.network.per_unit import PerUnitSystem"
   ]
  },
  {
   "cell_type": "markdown",
   "id": "7aeaab09-1e1a-4d02-b234-d4355a9e7ca5",
   "metadata": {},
   "source": [
    "As indicated in the line diagram above, the system has three voltage levels (380 kV, 220 kV, and 10.5 kV) separated by transformers. To each voltage level in the system a per-unit system can be assigned based on the transformer turns ratio. Firstly, a system-wide base MVA is chosen (100 MVA). The voltage bases for the different voltage levels in the system are chosen such that they match the transformer's voltage ratings (or turns ratio). For example, if a transformer has a 10:1 turns ratio, the base voltages on its primary and secondary sides are selected in a 10:1 ratio. When base voltages are selected this way, the per-unit impedance of the transformer becomes independent of the side being analyzed. That is, the impedance referred to the primary side is numerically equal to the impedance referred to the secondary side in per-unit terms."
   ]
  },
  {
   "cell_type": "code",
   "execution_count": 10,
   "id": "d39f0a3a-36d0-41e5-b4e8-4486ebbde384",
   "metadata": {},
   "outputs": [],
   "source": [
    "volt_level_1 = PerUnitSystem(S_base=Q_(100, 'MVA'), U_base=Q_(380, 'kV'))\n",
    "volt_level_2 = PerUnitSystem(S_base=Q_(100, 'MVA'), U_base=Q_(220, 'kV'))\n",
    "volt_level_3 = PerUnitSystem(S_base=Q_(100, 'MVA'), U_base=Q_(10.5, 'kV'))"
   ]
  },
  {
   "cell_type": "markdown",
   "id": "44482864-55dd-43d1-9e5e-f0307f7b1215",
   "metadata": {},
   "source": [
    "After the per-unit system of each voltage level in the system has been defined, the impedance of equipment is converted to per-unit value."
   ]
  },
  {
   "attachments": {},
   "cell_type": "markdown",
   "id": "e473b0a9-393a-434b-87f4-8ca863e12d7e",
   "metadata": {},
   "source": [
    "**At voltage level 1 (380 kV)**\n",
    "- system feeder"
   ]
  },
  {
   "cell_type": "code",
   "execution_count": 11,
   "id": "177c8270-4edf-4635-9e04-b06f34a59907",
   "metadata": {},
   "outputs": [],
   "source": [
    "Z_Q_pu = volt_level_1.get_per_unit_impedance(feeder.Z1)"
   ]
  },
  {
   "cell_type": "markdown",
   "id": "7aca8d0f-6be1-4599-a758-4447e14c7c3e",
   "metadata": {},
   "source": [
    "**At voltage level 2 (220 kV)**\n",
    "- transformer T3 (transformer impedance was calculated referred to secondary side, 220 kV)\n",
    "- transmission lines L1 and L2"
   ]
  },
  {
   "cell_type": "code",
   "execution_count": 12,
   "id": "e4771dab-fdea-4f81-9f09-f5e205a1e70b",
   "metadata": {},
   "outputs": [],
   "source": [
    "Z_T3_pu = volt_level_2.get_per_unit_impedance(transformer_T3.Z1)"
   ]
  },
  {
   "cell_type": "markdown",
   "id": "8a48470d-ec38-483f-9a9f-ae4d8db5a092",
   "metadata": {},
   "source": [
    "The impedance of the transmission lines haven't been calculated yet."
   ]
  },
  {
   "cell_type": "code",
   "execution_count": 13,
   "id": "0a8d891e-e8f7-4f81-a4fe-157da7356340",
   "metadata": {},
   "outputs": [],
   "source": [
    "Z_L1 = Q_(0.4j, 'ohm / km') * Q_(50, 'km')\n",
    "Z_L2 = Q_(0.4j, 'ohm / km') * Q_(50, 'km')"
   ]
  },
  {
   "cell_type": "markdown",
   "id": "ad7028f2-822f-4e29-b315-f12316cae440",
   "metadata": {},
   "source": [
    "Now, we can get the per-unit impedance of the transmission lines:"
   ]
  },
  {
   "cell_type": "code",
   "execution_count": 14,
   "id": "dc7caed6-fc47-48fc-be71-e4ff12da12e9",
   "metadata": {},
   "outputs": [],
   "source": [
    "Z_L1_pu = volt_level_2.get_per_unit_impedance(Z_L1)\n",
    "Z_L2_pu = volt_level_2.get_per_unit_impedance(Z_L2)"
   ]
  },
  {
   "cell_type": "markdown",
   "id": "ce861565-a6af-44cb-8873-3149ec9e80e8",
   "metadata": {},
   "source": [
    "**At voltage level 3 (10.5 kV)**\n",
    "- transformers T1 and T2 (their impedance was calculated referred to secondary side, 10.5 kV)\n",
    "- synchronous generators G1 and G2"
   ]
  },
  {
   "cell_type": "code",
   "execution_count": 15,
   "id": "c9c079c0-1eb0-48e1-bfef-f01382290994",
   "metadata": {},
   "outputs": [],
   "source": [
    "Z_T1_pu = volt_level_3.get_per_unit_impedance(transformer_T1.Z1)\n",
    "Z_T2_pu = volt_level_3.get_per_unit_impedance(transformer_T2.Z1)\n",
    "Z_G1_pu = volt_level_3.get_per_unit_impedance(generator_G1.Z1)\n",
    "Z_G2_pu = volt_level_3.get_per_unit_impedance(generator_G2.Z1)"
   ]
  },
  {
   "cell_type": "markdown",
   "id": "da7cb8dd-8cb3-43ed-873c-772c69c35fe5",
   "metadata": {},
   "source": [
    "## Impedance Matrix"
   ]
  },
  {
   "cell_type": "code",
   "execution_count": 16,
   "id": "d277cd6c-cf85-494e-91bf-1c2f2e960986",
   "metadata": {},
   "outputs": [],
   "source": "from short_circuit.network import Network"
  },
  {
   "cell_type": "markdown",
   "id": "7983deb3-339f-4ac6-8abc-9d829881e7cb",
   "metadata": {},
   "source": [
    "After the per-unit impedances of all network components in the power system have been determined, the network can be build up from the ground (or reference node, 0 V). This is done branch by branch. A branch in a network runs between two network nodes: a start and an end node. Besides the reference node (ground), in the power system of our example there are three other nodes: node (bus) 'Q', node (bus) 'A', and node (bus) 'B' (see the line diagram above). **Do note that branches connected at one end to the reference node, must always have the reference node as their start node.** If a branch contains a voltage source, this must be indicated by setting parameter `has_source` to `True`.\n",
    "\n",
    "The power network in our example has the following branches:\n",
    "1. branch from the reference node (ground) to node 'Q', containing the per-unit impedance of the system feeder;\n",
    "2. branch from the reference node (ground) to node 'B', containing the per-unit impedance of generator G1 and the per-unit impedance of transformer T1 connected in series;\n",
    "3. branch from the reference node (ground) to node 'B', containing the per-unit impedance of generator G2 and the per-unit impedance of transformer T2 connected in series;\n",
    "4. branch from node 'Q' to node 'A', containing the per-unit impedance of transformer T3;\n",
    "5. branch from node 'A' to node 'B', containing the per-unit impedance of transmission line L1;\n",
    "6. branch from node 'A' to node 'B', containing the per-unit impedance of transmission line L2."
   ]
  },
  {
   "cell_type": "code",
   "execution_count": 17,
   "id": "affef47c-dbdf-4bc4-a701-7225c751d739",
   "metadata": {},
   "outputs": [],
   "source": [
    "network = Network()\n",
    "network.add_branch(Z_Q_pu, None, 'Q', has_source=True)\n",
    "network.add_branch(Z_T3_pu, 'Q', 'A')\n",
    "network.add_branch(Z_L1_pu, 'A', 'B')\n",
    "network.add_branch(Z_L2_pu, 'A', 'B')\n",
    "network.add_branch(Z_T1_pu + Z_G1_pu, None, 'B', has_source=True)\n",
    "network.add_branch(Z_T2_pu + Z_G2_pu, None, 'B', has_source=True)"
   ]
  },
  {
   "cell_type": "markdown",
   "id": "57b8929f-e61d-40e5-9782-af3f37117423",
   "metadata": {},
   "source": [
    "Once the network is ready, the impedance matrix is also determined."
   ]
  },
  {
   "cell_type": "code",
   "execution_count": 18,
   "id": "6de0fadc-3be0-496e-87f1-e9cfdc4a86e4",
   "metadata": {},
   "outputs": [
    {
     "name": "stdout",
     "output_type": "stream",
     "text": [
      "                    Q                   A                   B\n",
      "Q  0.000033+0.020069j  0.000121+0.014937j  0.000152+0.013124j\n",
      "A  0.000121+0.014937j  0.000443+0.054647j  0.000556+0.048014j\n",
      "B  0.000152+0.013124j  0.000556+0.048014j  0.000699+0.060339j\n"
     ]
    }
   ],
   "source": "network.show_impedance_matrix()"
  },
  {
   "cell_type": "markdown",
   "id": "38d53a7e-1f81-4564-ad1b-037d5e642c4e",
   "metadata": {},
   "source": [
    "## Initial Symmetrical Short-Circuit Currents"
   ]
  },
  {
   "cell_type": "code",
   "execution_count": 19,
   "id": "1bc856cf-cb2f-499f-8c04-0ca03956157b",
   "metadata": {},
   "outputs": [],
   "source": [
    "from short_circuit.faults.three_phase_fault import ThreePhaseFault"
   ]
  },
  {
   "cell_type": "markdown",
   "id": "f3c504c3-6fc3-4b1c-8265-c8bba9ace51b",
   "metadata": {},
   "source": [
    "From the problem statement, a three-phase short circuit occurs at bus bar B (node 'B')."
   ]
  },
  {
   "cell_type": "code",
   "execution_count": 20,
   "id": "bba35783-fdce-4bd4-94d8-c926c04d5b28",
   "metadata": {},
   "outputs": [],
   "source": [
    "faulted_network = ThreePhaseFault(network, U_prefault=1.0, c=1.1)\n",
    "faulted_network.set_faulted_node('B')"
   ]
  },
  {
   "cell_type": "markdown",
   "id": "e6d7d402-ef4f-41cf-9a44-f5b95d73bb44",
   "metadata": {},
   "source": [
    "Parameter `U_phase` is the nominal system (line-to-ground) voltage at the fault location before the fault. As we are working with per-unit quantities, the system voltage must also be expressed in per-unit. The base voltages of the per-unit systems are chosen to be equal to the nominal system voltages in the power system, so the per-unit value is 1.0 pu. The fault current in the three-phase short-circuit at node 'B' can now be retrieved with:  "
   ]
  },
  {
   "cell_type": "code",
   "execution_count": 21,
   "id": "b6ea31f4-d45f-4e78-9723-9a59361e8c6a",
   "metadata": {},
   "outputs": [
    {
     "data": {
      "text/plain": [
       "(0.21126094510185126-18.227977082124927j)"
      ]
     },
     "execution_count": 21,
     "metadata": {},
     "output_type": "execute_result"
    }
   ],
   "source": [
    "I_k3i_B_pu = faulted_network.get_fault_current()\n",
    "I_k3i_B_pu"
   ]
  },
  {
   "cell_type": "markdown",
   "id": "e4378af7-9b24-459b-82ed-975ee4184dfb",
   "metadata": {},
   "source": [
    "Note that is also a per-unit value, as the network has been created with the per-unit impedance of the branches. To get the actual short-circuit current, we need to multiply the per-unit current with the base current at the fault location, which belongs to voltage level 2 (220 kV). "
   ]
  },
  {
   "cell_type": "code",
   "execution_count": 22,
   "id": "fb38a76f-0225-4432-987a-26ebb6e8d424",
   "metadata": {},
   "outputs": [
    {
     "name": "stdout",
     "output_type": "stream",
     "text": [
      "4.7839 kA\n"
     ]
    }
   ],
   "source": [
    "I_k3i_B = I_k3i_B_pu * volt_level_2.I_base\n",
    "print(f\"{abs(I_k3i_B.to('kA')):~P.4f}\")"
   ]
  },
  {
   "cell_type": "markdown",
   "id": "ad410b66-7fa6-4180-8a0b-df31c52eed65",
   "metadata": {},
   "source": [
    "To determine the contributions of the system feeder and the generators to the short-circuit current at 'B', we need to know the IDs of the branches in the network."
   ]
  },
  {
   "cell_type": "code",
   "execution_count": 23,
   "id": "f6c0350a-15ed-4efe-9fd8-63fdee5b232e",
   "metadata": {},
   "outputs": [
    {
     "name": "stdout",
     "output_type": "stream",
     "text": [
      "Branch 1 [ref->Q]: Z = (2.1999998282418335e-11+0.022000000000000002j)\n",
      "Branch 2 [Q->A]: Z = (3.581406450864694e-18+0.058488805970149244j)\n",
      "Branch 3 [A->B]: Z = 0.04132231404958678j\n",
      "Branch 4 [A->B]: Z = 0.04132231404958678j\n",
      "Branch 5 [ref->B]: Z = (0.007445848375451274+0.2613862172015222j)\n",
      "Branch 6 [ref->B]: Z = (0.010144932067154035+0.34912065626845357j)\n"
     ]
    }
   ],
   "source": [
    "for branch in network.branches:\n",
    "    print(branch)"
   ]
  },
  {
   "cell_type": "markdown",
   "id": "5de6d123-4d31-4425-bb81-c6507c23c9b4",
   "metadata": {},
   "source": [
    "Branch 1 contains the system feeder, branch 5 contains generator G1, and branch 6 (i.e. the last branch that we added to the network) contains generator G2."
   ]
  },
  {
   "cell_type": "code",
   "execution_count": 24,
   "id": "1ee5e195-5de3-41ca-aa90-9fdebcc17632",
   "metadata": {},
   "outputs": [],
   "source": [
    "I_k3i_Q_pu = faulted_network.get_branch_current((\"ref\", \"Q\"))\n",
    "I_k3i_G1_pu = faulted_network.get_branch_current((\"ref\", \"B\"))\n",
    "I_k3i_G2_pu = faulted_network.get_branch_current(6)\n",
    "I_k3i_Q = I_k3i_Q_pu * volt_level_1.I_base\n",
    "I_k3i_G1 = I_k3i_G1_pu * volt_level_3.I_base\n",
    "I_k3i_G2 = I_k3i_G2_pu * volt_level_3.I_base"
   ]
  },
  {
   "cell_type": "code",
   "execution_count": 25,
   "id": "48405e94-eb6c-4dbf-aae3-c2ed7566ad1e",
   "metadata": {},
   "outputs": [],
   "source": [
    "from short_circuit import complex_quantity_as_polar_string"
   ]
  },
  {
   "cell_type": "code",
   "execution_count": 26,
   "id": "17d6acc1-c4d6-404f-b051-921a498c7070",
   "metadata": {},
   "outputs": [
    {
     "name": "stdout",
     "output_type": "stream",
     "text": [
      "- short-circuit bus bar B: 4.7839 kA < -89.34°\n",
      "- feeder Q: 1.6523 kA < -90.00°\n",
      "- generator G1: 23.1304 kA < -88.37°\n",
      "- generator G2: 17.3174 kA < -88.34°\n"
     ]
    }
   ],
   "source": [
    "print(\n",
    "    f\"- short-circuit bus bar B: {complex_quantity_as_polar_string(I_k3i_B.to('kA'))}\",\n",
    "    f\"- feeder Q: {complex_quantity_as_polar_string(I_k3i_Q.to('kA'))}\",\n",
    "    f\"- generator G1: {complex_quantity_as_polar_string(I_k3i_G1.to('kA'))}\",\n",
    "    f\"- generator G2: {complex_quantity_as_polar_string(I_k3i_G2.to('kA'))}\",\n",
    "    sep='\\n'\n",
    ")"
   ]
  },
  {
   "cell_type": "markdown",
   "id": "44db1400-1743-4c75-af8e-c607cf7c3b43",
   "metadata": {},
   "source": [
    "Note that transformers T1 and T2 will reduce the current going from the generators to node 'B' at their primary side, while transformer T3 will raise the current coming from the feeder on its secondary side. "
   ]
  },
  {
   "cell_type": "code",
   "execution_count": 27,
   "id": "a257b509-4fd4-4f8c-9c78-8c7b58c398ff",
   "metadata": {},
   "outputs": [],
   "source": [
    "N_T1 = N_T2 = 220 / 10.5\n",
    "N_T3 = 380 / 220\n",
    "I_k3i_G1_pri = I_k3i_G1.to('kA') * (1 / N_T1)\n",
    "I_k3i_G2_pri = I_k3i_G2.to('kA') * (1 / N_T2)\n",
    "I_k3i_Q_sec = I_k3i_Q.to('kA') * N_T3"
   ]
  },
  {
   "cell_type": "code",
   "execution_count": 28,
   "id": "6b0b65d7-12c7-44e1-833e-649af0776226",
   "metadata": {},
   "outputs": [
    {
     "name": "stdout",
     "output_type": "stream",
     "text": [
      "current from G1 at B: 1.1040 kA < -88.37°\n",
      "current from G2 at B: 0.8265 kA < -88.34°\n",
      "current from Q at B: 2.8539 kA < -90.00°\n"
     ]
    }
   ],
   "source": [
    "print(\n",
    "    f\"current from G1 at B: {complex_quantity_as_polar_string(I_k3i_G1_pri)}\",\n",
    "    f\"current from G2 at B: {complex_quantity_as_polar_string(I_k3i_G2_pri)}\",\n",
    "    f\"current from Q at B: {complex_quantity_as_polar_string(I_k3i_Q_sec)}\",\n",
    "    sep='\\n'\n",
    ")"
   ]
  },
  {
   "cell_type": "markdown",
   "id": "7cc162a4-05bc-4767-8d3e-e339873ce3fd",
   "metadata": {},
   "source": [
    "It can be checked that the sum of these three currents equals short-circuit current `I_k3i_B` at node 'B'."
   ]
  },
  {
   "cell_type": "code",
   "execution_count": null,
   "id": "4461dbc1-6d99-41a8-8f9d-5eef07042a58",
   "metadata": {},
   "outputs": [],
   "source": []
  }
 ],
 "metadata": {
  "kernelspec": {
   "display_name": "Python 3 (ipykernel)",
   "language": "python",
   "name": "python3"
  },
  "language_info": {
   "codemirror_mode": {
    "name": "ipython",
    "version": 3
   },
   "file_extension": ".py",
   "mimetype": "text/x-python",
   "name": "python",
   "nbconvert_exporter": "python",
   "pygments_lexer": "ipython3",
   "version": "3.13.1"
  }
 },
 "nbformat": 4,
 "nbformat_minor": 5
}
